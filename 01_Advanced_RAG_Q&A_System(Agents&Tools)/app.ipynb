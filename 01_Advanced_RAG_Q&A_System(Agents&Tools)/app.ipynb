{
 "cells": [
  {
   "cell_type": "markdown",
   "id": "1e5e2c37",
   "metadata": {},
   "source": [
    "# Intiating the Langsmith Tracing"
   ]
  },
  {
   "cell_type": "code",
   "execution_count": 1,
   "id": "1c2b7372",
   "metadata": {},
   "outputs": [],
   "source": [
    "### Langsmith tracking\n",
    "import os\n",
    "from dotenv import load_dotenv\n",
    "load_dotenv()\n",
    "\n",
    "os.environ[\"LANGCHAIN_TRACING_V2\"]=\"true\"\n",
    "os.environ[\"LANGCHAIN_API_KEY\"]=os.getenv(\"LANGCHAIN_API_KEY\")  "
   ]
  },
  {
   "cell_type": "markdown",
   "id": "2eff7843",
   "metadata": {},
   "source": [
    "# Create wrappers or tools"
   ]
  },
  {
   "cell_type": "markdown",
   "id": "6ca9a3d3",
   "metadata": {},
   "source": [
    "## 1) Wiki_tool"
   ]
  },
  {
   "cell_type": "code",
   "execution_count": 2,
   "id": "5e4b77d7",
   "metadata": {},
   "outputs": [
    {
     "data": {
      "text/plain": [
       "'wikipedia'"
      ]
     },
     "execution_count": 2,
     "metadata": {},
     "output_type": "execute_result"
    }
   ],
   "source": [
    "from langchain_community.tools import WikipediaQueryRun\n",
    "from langchain_community.utilities import WikipediaAPIWrapper\n",
    "\n",
    "wikiapi=WikipediaAPIWrapper(top_k_results=1,doc_content_chars_max=200)\n",
    "wiki_tool=WikipediaQueryRun(api_wrapper=wikiapi)\n",
    "wiki_tool.name"
   ]
  },
  {
   "cell_type": "markdown",
   "id": "64745564",
   "metadata": {},
   "source": [
    "## 2) Arxiv_tool"
   ]
  },
  {
   "cell_type": "code",
   "execution_count": 3,
   "id": "16c9c362",
   "metadata": {},
   "outputs": [
    {
     "data": {
      "text/plain": [
       "'arxiv'"
      ]
     },
     "execution_count": 3,
     "metadata": {},
     "output_type": "execute_result"
    }
   ],
   "source": [
    "from langchain_community.tools import ArxivQueryRun\n",
    "from langchain_community.utilities import ArxivAPIWrapper\n",
    "\n",
    "arxivapi=ArxivAPIWrapper(top_k_results=1,doc_content_chars_max=200)\n",
    "arxiv_tool=ArxivQueryRun(api_wrapper=arxivapi)\n",
    "arxiv_tool.name"
   ]
  },
  {
   "cell_type": "markdown",
   "id": "6bae851d",
   "metadata": {},
   "source": [
    "## 3) Url_tool(Langsmith webpage)"
   ]
  },
  {
   "cell_type": "code",
   "execution_count": null,
   "id": "09b8a2d2",
   "metadata": {},
   "outputs": [
    {
     "name": "stderr",
     "output_type": "stream",
     "text": [
      "USER_AGENT environment variable not set, consider setting it to identify your requests.\n"
     ]
    }
   ],
   "source": [
    "from langchain_community.document_loaders import WebBaseLoader\n",
    "from langchain_text_splitters import RecursiveCharacterTextSplitter\n",
    "from langchain_ollama import OllamaEmbeddings\n",
    "from langchain.vectorstores import FAISS\n",
    "embeddingllm=OllamaEmbeddings(model=\"llama3.2\")\n",
    "\n",
    "# Load data\n",
    "loader=WebBaseLoader(\"https://docs.smith.langchain.com/\")\n",
    "docs=loader.load()\n",
    "\n",
    "# Treasform data\n",
    "splitter=RecursiveCharacterTextSplitter(chunk_size=1000,chunk_overlap=200)\n",
    "document=splitter.split_documents(docs)\n",
    "\n",
    "# Embeded data (covert to vectors)\n",
    "vectordb=FAISS.from_documents(document,embeddingllm)\n",
    "\n",
    "# Creating a retriever\n",
    "retrieve=vectordb.as_retriever()"
   ]
  },
  {
   "cell_type": "code",
   "execution_count": 5,
   "id": "073ca871",
   "metadata": {},
   "outputs": [
    {
     "data": {
      "text/plain": [
       "'Langsmith-Search'"
      ]
     },
     "execution_count": 5,
     "metadata": {},
     "output_type": "execute_result"
    }
   ],
   "source": [
    "# Creating a tool from the retriever\n",
    "from langchain.tools.retriever import create_retriever_tool\n",
    "url_tool=create_retriever_tool(retrieve,\"Langsmith-Search\",\"Search for information about Langsmith. For any questions about langsmith, you must use this tool\")\n",
    "url_tool.name"
   ]
  },
  {
   "cell_type": "code",
   "execution_count": 6,
   "id": "cd83cb08",
   "metadata": {},
   "outputs": [],
   "source": [
    "# Now Combining these three models\n",
    "tools=[wiki_tool,url_tool,arxiv_tool]"
   ]
  },
  {
   "cell_type": "markdown",
   "id": "0925b6c3",
   "metadata": {},
   "source": [
    "# Seting up the llm and prompt for Agent"
   ]
  },
  {
   "cell_type": "code",
   "execution_count": 7,
   "id": "28fa2093",
   "metadata": {},
   "outputs": [],
   "source": [
    "# Importing the llm\n",
    "from langchain_ollama import ChatOllama\n",
    "llm=ChatOllama(model=\"llama3.2\")\n",
    "\n",
    "# seting up the chat prompt template\n",
    "from langchain import hub\n",
    "prompt = hub.pull(\"hwchase17/openai-tools-agent\")"
   ]
  },
  {
   "cell_type": "markdown",
   "id": "62679898",
   "metadata": {},
   "source": [
    "# Creating Agent"
   ]
  },
  {
   "cell_type": "code",
   "execution_count": 8,
   "id": "455da53f",
   "metadata": {},
   "outputs": [],
   "source": [
    "from langchain.agents import create_tool_calling_agent\n",
    "initAgent=create_tool_calling_agent(llm,tools,prompt)"
   ]
  },
  {
   "cell_type": "markdown",
   "id": "ace6c19f",
   "metadata": {},
   "source": [
    "# Agent Executer"
   ]
  },
  {
   "cell_type": "code",
   "execution_count": 9,
   "id": "226975ca",
   "metadata": {},
   "outputs": [],
   "source": [
    "from langchain.agents import AgentExecutor\n",
    "agent=AgentExecutor(agent=initAgent,tools=tools,verbose=True)"
   ]
  },
  {
   "cell_type": "code",
   "execution_count": 10,
   "id": "d69d7488",
   "metadata": {},
   "outputs": [
    {
     "name": "stdout",
     "output_type": "stream",
     "text": [
      "\n",
      "\n",
      "\u001b[1m> Entering new AgentExecutor chain...\u001b[0m\n",
      "\u001b[32;1m\u001b[1;3m\n",
      "Invoking: `Langsmith-Search` with `{'query': 'langsmith'}`\n",
      "\n",
      "\n",
      "\u001b[0m\u001b[33;1m\u001b[1;3mGet started with LangSmith | 🦜️🛠️ LangSmith\n",
      "\n",
      "Get started by adding tracing to your application.\n",
      "Create dashboards to view key metrics like RPS, error rates and costs.\n",
      "\n",
      "Evals​\n",
      "The quality and development speed of AI applications depends on high-quality evaluation datasets and metrics to test and optimize your applications on. The LangSmith SDK and UI make building and running high-quality evaluations easy.\n",
      "\n",
      "Get started by creating your first evaluation.\n",
      "Quickly assess the performance of your application using our off-the-shelf evaluators as a starting point.\n",
      "Analyze results of evaluations in the LangSmith UI and compare results over time.\n",
      "Easily collect human feedback on your data to improve your application.\n",
      "\n",
      "Prompt Engineering​\n",
      "While traditional software applications are built by writing code, AI applications involve writing prompts to instruct the LLM on what to do. LangSmith provides a set of tools designed to enable and facilitate prompt engineering to help you find the perfect prompt for your application.\n",
      "\n",
      "LangSmith + LangChain OSSLangSmith is framework-agnostic — it can be used with or without LangChain's open source frameworks langchain and langgraph.If you are using either of these, you can enable LangSmith tracing with a single environment variable.\n",
      "For more see the how-to guide for setting up LangSmith with LangChain or setting up LangSmith with LangGraph.\n",
      "Observability​\n",
      "Observability is important for any software application, but especially so for LLM applications. LLMs are non-deterministic by nature, meaning they can produce unexpected results. This makes them trickier than normal to debug.\n",
      "This is where LangSmith can help! LangSmith has LLM-native observability, allowing you to get meaningful insights from your application. LangSmith’s observability features have you covered throughout all stages of application development - from prototyping, to beta testing, to production.\n",
      "\n",
      "Get started by creating your first prompt.\n",
      "Iterate on models and prompts using the Playground.\n",
      "Manage prompts programmatically in your application.\n",
      "Was this page helpful?You can leave detailed feedback on GitHub.NextQuick StartObservabilityEvalsPrompt EngineeringCommunityTwitterGitHubDocs CodeLangSmith SDKPythonJS/TSMoreHomepageBlogLangChain Python DocsLangChain JS/TS DocsCopyright © 2025 LangChain, Inc.\u001b[0m\u001b[32;1m\u001b[1;3mLangsmith is a framework-agnostic tool for building and optimizing large language model (LLM) applications. It provides a set of tools and features to enable prompt engineering, evaluation, and observability for LLMs.\n",
      "\n",
      "Key features of Langsmith include:\n",
      "\n",
      "* Prompt engineering: enables the creation of high-quality prompts for LLMs\n",
      "* Evaluation: provides a way to assess the performance of LLM applications using off-the-shelf evaluators and human feedback\n",
      "* Observability: offers LLM-native observability to gain insights into application performance\n",
      "\n",
      "Langsmith can be used with or without LangChain's open-source frameworks langchain and langgraph, and is suitable for use in Python, JavaScript/TS, and other programming languages.\u001b[0m\n",
      "\n",
      "\u001b[1m> Finished chain.\u001b[0m\n"
     ]
    }
   ],
   "source": [
    "# To begin Searches\n",
    "question=\"what is langsmith\"\n",
    "result=agent.invoke({\"input\":question})"
   ]
  },
  {
   "cell_type": "code",
   "execution_count": 11,
   "id": "3a575e84",
   "metadata": {},
   "outputs": [
    {
     "name": "stdout",
     "output_type": "stream",
     "text": [
      "Langsmith is a framework-agnostic tool for building and optimizing large language model (LLM) applications. It provides a set of tools and features to enable prompt engineering, evaluation, and observability for LLMs.\n",
      "\n",
      "Key features of Langsmith include:\n",
      "\n",
      "* Prompt engineering: enables the creation of high-quality prompts for LLMs\n",
      "* Evaluation: provides a way to assess the performance of LLM applications using off-the-shelf evaluators and human feedback\n",
      "* Observability: offers LLM-native observability to gain insights into application performance\n",
      "\n",
      "Langsmith can be used with or without LangChain's open-source frameworks langchain and langgraph, and is suitable for use in Python, JavaScript/TS, and other programming languages.\n"
     ]
    }
   ],
   "source": [
    "print(result['output'])"
   ]
  }
 ],
 "metadata": {
  "kernelspec": {
   "display_name": "langenv",
   "language": "python",
   "name": "python3"
  },
  "language_info": {
   "codemirror_mode": {
    "name": "ipython",
    "version": 3
   },
   "file_extension": ".py",
   "mimetype": "text/x-python",
   "name": "python",
   "nbconvert_exporter": "python",
   "pygments_lexer": "ipython3",
   "version": "3.10.18"
  }
 },
 "nbformat": 4,
 "nbformat_minor": 5
}
